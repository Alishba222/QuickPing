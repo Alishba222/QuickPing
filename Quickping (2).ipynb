{
  "cells": [
    {
      "cell_type": "code",
      "execution_count": null,
      "metadata": {
        "colab": {
          "base_uri": "https://localhost:8080/"
        },
        "id": "_A9rW5_9meaj",
        "outputId": "1987ab85-262c-499b-ac32-a0954e775a1a"
      },
      "outputs": [
        {
          "name": "stdout",
          "output_type": "stream",
          "text": [
            "Collecting twilio\n",
            "  Downloading twilio-9.6.3-py2.py3-none-any.whl.metadata (13 kB)\n",
            "Requirement already satisfied: requests>=2.0.0 in /usr/local/lib/python3.11/dist-packages (from twilio) (2.32.3)\n",
            "Requirement already satisfied: PyJWT<3.0.0,>=2.0.0 in /usr/local/lib/python3.11/dist-packages (from twilio) (2.10.1)\n",
            "Requirement already satisfied: aiohttp>=3.8.4 in /usr/local/lib/python3.11/dist-packages (from twilio) (3.11.15)\n",
            "Collecting aiohttp-retry>=2.8.3 (from twilio)\n",
            "  Downloading aiohttp_retry-2.9.1-py3-none-any.whl.metadata (8.8 kB)\n",
            "Requirement already satisfied: aiohappyeyeballs>=2.3.0 in /usr/local/lib/python3.11/dist-packages (from aiohttp>=3.8.4->twilio) (2.6.1)\n",
            "Requirement already satisfied: aiosignal>=1.1.2 in /usr/local/lib/python3.11/dist-packages (from aiohttp>=3.8.4->twilio) (1.3.2)\n",
            "Requirement already satisfied: attrs>=17.3.0 in /usr/local/lib/python3.11/dist-packages (from aiohttp>=3.8.4->twilio) (25.3.0)\n",
            "Requirement already satisfied: frozenlist>=1.1.1 in /usr/local/lib/python3.11/dist-packages (from aiohttp>=3.8.4->twilio) (1.7.0)\n",
            "Requirement already satisfied: multidict<7.0,>=4.5 in /usr/local/lib/python3.11/dist-packages (from aiohttp>=3.8.4->twilio) (6.4.4)\n",
            "Requirement already satisfied: propcache>=0.2.0 in /usr/local/lib/python3.11/dist-packages (from aiohttp>=3.8.4->twilio) (0.3.2)\n",
            "Requirement already satisfied: yarl<2.0,>=1.17.0 in /usr/local/lib/python3.11/dist-packages (from aiohttp>=3.8.4->twilio) (1.20.1)\n",
            "Requirement already satisfied: charset-normalizer<4,>=2 in /usr/local/lib/python3.11/dist-packages (from requests>=2.0.0->twilio) (3.4.2)\n",
            "Requirement already satisfied: idna<4,>=2.5 in /usr/local/lib/python3.11/dist-packages (from requests>=2.0.0->twilio) (3.10)\n",
            "Requirement already satisfied: urllib3<3,>=1.21.1 in /usr/local/lib/python3.11/dist-packages (from requests>=2.0.0->twilio) (2.4.0)\n",
            "Requirement already satisfied: certifi>=2017.4.17 in /usr/local/lib/python3.11/dist-packages (from requests>=2.0.0->twilio) (2025.6.15)\n",
            "Downloading twilio-9.6.3-py2.py3-none-any.whl (1.9 MB)\n",
            "\u001b[2K   \u001b[90m━━━━━━━━━━━━━━━━━━━━━━━━━━━━━━━━━━━━━━━━\u001b[0m \u001b[32m1.9/1.9 MB\u001b[0m \u001b[31m43.0 MB/s\u001b[0m eta \u001b[36m0:00:00\u001b[0m\n",
            "\u001b[?25hDownloading aiohttp_retry-2.9.1-py3-none-any.whl (10.0 kB)\n",
            "Installing collected packages: aiohttp-retry, twilio\n",
            "Successfully installed aiohttp-retry-2.9.1 twilio-9.6.3\n"
          ]
        }
      ],
      "source": [
        "pip install twilio"
      ]
    },
    {
      "cell_type": "code",
      "source": [
        "from google.colab import drive\n",
        "drive.mount('/content/drive')"
      ],
      "metadata": {
        "id": "VXNe3CjXCCSg"
      },
      "execution_count": null,
      "outputs": []
    },
    {
      "cell_type": "code",
      "source": [
        "!pip install twilio\n"
      ],
      "metadata": {
        "id": "_fkPDqEArUMQ"
      },
      "execution_count": null,
      "outputs": []
    },
    {
      "cell_type": "code",
      "execution_count": null,
      "metadata": {
        "colab": {
          "base_uri": "https://localhost:8080/"
        },
        "id": "tCwRH6nk5ZZe",
        "outputId": "01b292eb-33b2-4669-f8c3-96af7f009066"
      },
      "outputs": [
        {
          "output_type": "stream",
          "name": "stdout",
          "text": [
            "Enter the recipient name: alishba\n",
            "Enter the recipient WhatsApp number with country code (e.g., +923001234567): +923152384899\n",
            "Enter the message you want to send to alishba: hello alihsba\n",
            "Enter the date to send the message (YYYY-MM-DD): 2025-07-01\n",
            "Enter the time to send the message (HH:MM in 24-hour format): 21:04\n",
            "Current time: 2025-07-01 16:04:59\n",
            "Scheduled time: 2025-07-01 21:04:00\n",
            "Scheduled time is in the future. This version sends instantly only.\n",
            "Message sent successfully! Message SID: SMd51992e31f48d097045a97fd2043ada8\n"
          ]
        }
      ],
      "source": [
        "from twilio.rest import Client\n",
        "from datetime import datetime\n",
        "\n",
        "# Twilio credentials\n",
        "account_sid = 'your_account_sid'\n",
        "auth_token = 'your_auth_token'\n",
        "client = Client(account_sid, auth_token)\n",
        "\n",
        "# Function to send message\n",
        "def send_whatsapp_message(recipient_number, message_body):\n",
        "    try:\n",
        "        message = client.messages.create(\n",
        "            from_='whatsapp:+14155238886',\n",
        "            body=message_body,\n",
        "            to=f'whatsapp:{recipient_number}'\n",
        "        )\n",
        "        print(f'Message sent successfully! Message SID: {message.sid}')\n",
        "    except Exception as e:\n",
        "        print(\"An error occurred:\", e)\n",
        "\n",
        "# User input\n",
        "name = input(\"Enter the recipient name: \")\n",
        "recipient_number = input(\"Enter the recipient WhatsApp number with country code (e.g., +923001234567): \")\n",
        "message_body = input(f\"Enter the message you want to send to {name}: \")\n",
        "\n",
        "# Scheduled date/time input\n",
        "date_str = input('Enter the date to send the message (YYYY-MM-DD): ')\n",
        "time_str = input('Enter the time to send the message (HH:MM in 24-hour format): ')\n",
        "\n",
        "# Parse datetime\n",
        "try:\n",
        "    schedule_datetime = datetime.strptime(f'{date_str} {time_str}', \"%Y-%m-%d %H:%M\")\n",
        "    current_datetime = datetime.now()\n",
        "\n",
        "    print(f'Current time: {current_datetime.strftime(\"%Y-%m-%d %H:%M:%S\")}')\n",
        "    print(f'Scheduled time: {schedule_datetime.strftime(\"%Y-%m-%d %H:%M:%S\")}')\n",
        "\n",
        "    if schedule_datetime <= current_datetime:\n",
        "        print('Time is now or already passed. Sending the message instantly...')\n",
        "        send_whatsapp_message(recipient_number, message_body)\n",
        "    else:\n",
        "        print('Scheduled time is in the future. This version sends instantly only.')\n",
        "        send_whatsapp_message(recipient_number, message_body)\n",
        "\n",
        "except ValueError as ve:\n",
        "    print(\"Invalid date or time format. Please use YYYY-MM-DD and HH:MM.\")\n"
      ]
    },
    {
      "cell_type": "code",
      "execution_count": null,
      "metadata": {
        "id": "hyhOrpQP0hB7"
      },
      "outputs": [],
      "source": []
    }
  ],
  "metadata": {
    "colab": {
      "provenance": []
    },
    "kernelspec": {
      "display_name": "Python 3",
      "name": "python3"
    },
    "language_info": {
      "name": "python"
    }
  },
  "nbformat": 4,
  "nbformat_minor": 0
}